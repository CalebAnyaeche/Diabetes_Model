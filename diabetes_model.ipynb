{
 "cells": [
  {
   "cell_type": "markdown",
   "metadata": {},
   "source": [
    "# Training Logistic Regression and Support Vector Machines using Scikit-Learn"
   ]
  },
  {
   "cell_type": "code",
   "execution_count": 26,
   "metadata": {},
   "outputs": [],
   "source": [
    "import numpy as np\n",
    "import pandas as pd\n",
    "from sklearn import datasets"
   ]
  },
  {
   "cell_type": "code",
   "execution_count": 27,
   "metadata": {},
   "outputs": [],
   "source": [
    "from matplotlib.colors import ListedColormap\n",
    "import matplotlib.pyplot as plt\n",
    "\n",
    "\n",
    "def plot_decision_regions(X, y, classifier, test_idx=None, resolution=0.02):\n",
    "\n",
    "    # setup marker generator and color map\n",
    "    markers = ('s', 'x', 'o', '^', 'v')\n",
    "    colors = ('red', 'blue', 'lightgreen', 'gray', 'cyan')\n",
    "    cmap = ListedColormap(colors[:len(np.unique(y))])\n",
    "\n",
    "    # plot the decision surface\n",
    "    x1_min, x1_max = X[:, 0].min() - 1, X[:, 0].max() + 1\n",
    "    x2_min, x2_max = X[:, 1].min() - 1, X[:, 1].max() + 1\n",
    "    xx1, xx2 = np.meshgrid(np.arange(x1_min, x1_max, resolution),\n",
    "                           np.arange(x2_min, x2_max, resolution))\n",
    "    Z = classifier.predict(np.array([xx1.ravel(), xx2.ravel()]).T)\n",
    "    Z = Z.reshape(xx1.shape)\n",
    "    plt.contourf(xx1, xx2, Z, alpha=0.3, cmap=cmap)\n",
    "    plt.xlim(xx1.min(), xx1.max())\n",
    "    plt.ylim(xx2.min(), xx2.max())\n",
    "\n",
    "    for idx, cl in enumerate(np.unique(y)):\n",
    "        plt.scatter(x=X[y == cl, 0], \n",
    "                    y=X[y == cl, 1],\n",
    "                    alpha=0.8, \n",
    "                    c=colors[idx],\n",
    "                    marker=markers[idx], \n",
    "                    label=cl, \n",
    "                    edgecolor='black')\n",
    "\n",
    "    # highlight test samples\n",
    "    if test_idx:\n",
    "        # plot all samples\n",
    "        X_test, y_test = X[test_idx, :], y[test_idx]\n",
    "\n",
    "        plt.scatter(X_test[:, 0],\n",
    "                    X_test[:, 1],\n",
    "                    c='',\n",
    "                    edgecolor='black',\n",
    "                    alpha=1.0,\n",
    "                    linewidth=1,\n",
    "                    marker='o',\n",
    "                    s=100, \n",
    "                    label='test set')"
   ]
  },
  {
   "cell_type": "markdown",
   "metadata": {},
   "source": [
    "## First steps with scikit-learn\n",
    "\n",
    "Loading the Iris dataset from scikit-learn. Here, the third column represents the petal length, and the fourth column the petal width of the flower samples. The classes are already converted to integer labels where 0=Iris-Setosa, 1=Iris-Versicolor, 2=Iris-Virginica."
   ]
  },
  {
   "cell_type": "code",
   "execution_count": 31,
   "metadata": {
    "scrolled": true
   },
   "outputs": [
    {
     "name": "stdout",
     "output_type": "stream",
     "text": [
      "Class labels: [0 1 2]\n",
      "(150, 2)\n",
      "(520, 17)\n"
     ]
    },
    {
     "data": {
      "text/html": [
       "<div>\n",
       "<style scoped>\n",
       "    .dataframe tbody tr th:only-of-type {\n",
       "        vertical-align: middle;\n",
       "    }\n",
       "\n",
       "    .dataframe tbody tr th {\n",
       "        vertical-align: top;\n",
       "    }\n",
       "\n",
       "    .dataframe thead th {\n",
       "        text-align: right;\n",
       "    }\n",
       "</style>\n",
       "<table border=\"1\" class=\"dataframe\">\n",
       "  <thead>\n",
       "    <tr style=\"text-align: right;\">\n",
       "      <th></th>\n",
       "      <th>Age</th>\n",
       "      <th>Gender</th>\n",
       "      <th>Polyuria</th>\n",
       "      <th>Polydipsia</th>\n",
       "      <th>sudden weight loss</th>\n",
       "      <th>weakness</th>\n",
       "      <th>Polyphagia</th>\n",
       "      <th>Genital thrush</th>\n",
       "      <th>visual blurring</th>\n",
       "      <th>Itching</th>\n",
       "      <th>Irritability</th>\n",
       "      <th>delayed healing</th>\n",
       "      <th>partial paresis</th>\n",
       "      <th>muscle stiffness</th>\n",
       "      <th>Alopecia</th>\n",
       "      <th>Obesity</th>\n",
       "      <th>class</th>\n",
       "    </tr>\n",
       "  </thead>\n",
       "  <tbody>\n",
       "    <tr>\n",
       "      <th>0</th>\n",
       "      <td>40</td>\n",
       "      <td>Male</td>\n",
       "      <td>No</td>\n",
       "      <td>Yes</td>\n",
       "      <td>No</td>\n",
       "      <td>Yes</td>\n",
       "      <td>No</td>\n",
       "      <td>No</td>\n",
       "      <td>No</td>\n",
       "      <td>Yes</td>\n",
       "      <td>No</td>\n",
       "      <td>Yes</td>\n",
       "      <td>No</td>\n",
       "      <td>Yes</td>\n",
       "      <td>Yes</td>\n",
       "      <td>Yes</td>\n",
       "      <td>Positive</td>\n",
       "    </tr>\n",
       "    <tr>\n",
       "      <th>1</th>\n",
       "      <td>58</td>\n",
       "      <td>Male</td>\n",
       "      <td>No</td>\n",
       "      <td>No</td>\n",
       "      <td>No</td>\n",
       "      <td>Yes</td>\n",
       "      <td>No</td>\n",
       "      <td>No</td>\n",
       "      <td>Yes</td>\n",
       "      <td>No</td>\n",
       "      <td>No</td>\n",
       "      <td>No</td>\n",
       "      <td>Yes</td>\n",
       "      <td>No</td>\n",
       "      <td>Yes</td>\n",
       "      <td>No</td>\n",
       "      <td>Positive</td>\n",
       "    </tr>\n",
       "    <tr>\n",
       "      <th>2</th>\n",
       "      <td>41</td>\n",
       "      <td>Male</td>\n",
       "      <td>Yes</td>\n",
       "      <td>No</td>\n",
       "      <td>No</td>\n",
       "      <td>Yes</td>\n",
       "      <td>Yes</td>\n",
       "      <td>No</td>\n",
       "      <td>No</td>\n",
       "      <td>Yes</td>\n",
       "      <td>No</td>\n",
       "      <td>Yes</td>\n",
       "      <td>No</td>\n",
       "      <td>Yes</td>\n",
       "      <td>Yes</td>\n",
       "      <td>No</td>\n",
       "      <td>Positive</td>\n",
       "    </tr>\n",
       "    <tr>\n",
       "      <th>3</th>\n",
       "      <td>45</td>\n",
       "      <td>Male</td>\n",
       "      <td>No</td>\n",
       "      <td>No</td>\n",
       "      <td>Yes</td>\n",
       "      <td>Yes</td>\n",
       "      <td>Yes</td>\n",
       "      <td>Yes</td>\n",
       "      <td>No</td>\n",
       "      <td>Yes</td>\n",
       "      <td>No</td>\n",
       "      <td>Yes</td>\n",
       "      <td>No</td>\n",
       "      <td>No</td>\n",
       "      <td>No</td>\n",
       "      <td>No</td>\n",
       "      <td>Positive</td>\n",
       "    </tr>\n",
       "    <tr>\n",
       "      <th>4</th>\n",
       "      <td>60</td>\n",
       "      <td>Male</td>\n",
       "      <td>Yes</td>\n",
       "      <td>Yes</td>\n",
       "      <td>Yes</td>\n",
       "      <td>Yes</td>\n",
       "      <td>Yes</td>\n",
       "      <td>No</td>\n",
       "      <td>Yes</td>\n",
       "      <td>Yes</td>\n",
       "      <td>Yes</td>\n",
       "      <td>Yes</td>\n",
       "      <td>Yes</td>\n",
       "      <td>Yes</td>\n",
       "      <td>Yes</td>\n",
       "      <td>Yes</td>\n",
       "      <td>Positive</td>\n",
       "    </tr>\n",
       "  </tbody>\n",
       "</table>\n",
       "</div>"
      ],
      "text/plain": [
       "   Age Gender Polyuria Polydipsia sudden weight loss weakness Polyphagia  \\\n",
       "0   40   Male       No        Yes                 No      Yes         No   \n",
       "1   58   Male       No         No                 No      Yes         No   \n",
       "2   41   Male      Yes         No                 No      Yes        Yes   \n",
       "3   45   Male       No         No                Yes      Yes        Yes   \n",
       "4   60   Male      Yes        Yes                Yes      Yes        Yes   \n",
       "\n",
       "  Genital thrush visual blurring Itching Irritability delayed healing  \\\n",
       "0             No              No     Yes           No             Yes   \n",
       "1             No             Yes      No           No              No   \n",
       "2             No              No     Yes           No             Yes   \n",
       "3            Yes              No     Yes           No             Yes   \n",
       "4             No             Yes     Yes          Yes             Yes   \n",
       "\n",
       "  partial paresis muscle stiffness Alopecia Obesity     class  \n",
       "0              No              Yes      Yes     Yes  Positive  \n",
       "1             Yes               No      Yes      No  Positive  \n",
       "2              No              Yes      Yes      No  Positive  \n",
       "3              No               No       No      No  Positive  \n",
       "4             Yes              Yes      Yes     Yes  Positive  "
      ]
     },
     "execution_count": 31,
     "metadata": {},
     "output_type": "execute_result"
    }
   ],
   "source": [
    "iris = datasets.load_iris()\n",
    "#print(iris)\n",
    "X = iris.data[:,[0,2]]\n",
    "#X = iris.data\n",
    "y = iris.target\n",
    "\n",
    "print('Class labels:', np.unique(y))\n",
    "print(X.shape)\n",
    "\n",
    "#####      MINE        ########\n",
    "df = pd.read_csv(\"diabetes_data_upload.csv\")\n",
    "print(data.shape)\n",
    "df.head()\n",
    "\n",
    "\n",
    "\n"
   ]
  },
  {
   "cell_type": "markdown",
   "metadata": {},
   "source": [
    "## Encode categorical features\n",
    "\n"
   ]
  },
  {
   "cell_type": "code",
   "execution_count": 32,
   "metadata": {},
   "outputs": [
    {
     "data": {
      "text/html": [
       "<div>\n",
       "<style scoped>\n",
       "    .dataframe tbody tr th:only-of-type {\n",
       "        vertical-align: middle;\n",
       "    }\n",
       "\n",
       "    .dataframe tbody tr th {\n",
       "        vertical-align: top;\n",
       "    }\n",
       "\n",
       "    .dataframe thead th {\n",
       "        text-align: right;\n",
       "    }\n",
       "</style>\n",
       "<table border=\"1\" class=\"dataframe\">\n",
       "  <thead>\n",
       "    <tr style=\"text-align: right;\">\n",
       "      <th></th>\n",
       "      <th>Age</th>\n",
       "      <th>Gender</th>\n",
       "      <th>Polyuria</th>\n",
       "      <th>Polydipsia</th>\n",
       "      <th>sudden weight loss</th>\n",
       "      <th>weakness</th>\n",
       "      <th>Polyphagia</th>\n",
       "      <th>Genital thrush</th>\n",
       "      <th>visual blurring</th>\n",
       "      <th>Itching</th>\n",
       "      <th>Irritability</th>\n",
       "      <th>delayed healing</th>\n",
       "      <th>partial paresis</th>\n",
       "      <th>muscle stiffness</th>\n",
       "      <th>Alopecia</th>\n",
       "      <th>Obesity</th>\n",
       "      <th>class</th>\n",
       "    </tr>\n",
       "  </thead>\n",
       "  <tbody>\n",
       "    <tr>\n",
       "      <th>0</th>\n",
       "      <td>40</td>\n",
       "      <td>1</td>\n",
       "      <td>0</td>\n",
       "      <td>1</td>\n",
       "      <td>0</td>\n",
       "      <td>1</td>\n",
       "      <td>0</td>\n",
       "      <td>0</td>\n",
       "      <td>0</td>\n",
       "      <td>1</td>\n",
       "      <td>0</td>\n",
       "      <td>1</td>\n",
       "      <td>0</td>\n",
       "      <td>1</td>\n",
       "      <td>1</td>\n",
       "      <td>1</td>\n",
       "      <td>1</td>\n",
       "    </tr>\n",
       "    <tr>\n",
       "      <th>1</th>\n",
       "      <td>58</td>\n",
       "      <td>1</td>\n",
       "      <td>0</td>\n",
       "      <td>0</td>\n",
       "      <td>0</td>\n",
       "      <td>1</td>\n",
       "      <td>0</td>\n",
       "      <td>0</td>\n",
       "      <td>1</td>\n",
       "      <td>0</td>\n",
       "      <td>0</td>\n",
       "      <td>0</td>\n",
       "      <td>1</td>\n",
       "      <td>0</td>\n",
       "      <td>1</td>\n",
       "      <td>0</td>\n",
       "      <td>1</td>\n",
       "    </tr>\n",
       "    <tr>\n",
       "      <th>2</th>\n",
       "      <td>41</td>\n",
       "      <td>1</td>\n",
       "      <td>1</td>\n",
       "      <td>0</td>\n",
       "      <td>0</td>\n",
       "      <td>1</td>\n",
       "      <td>1</td>\n",
       "      <td>0</td>\n",
       "      <td>0</td>\n",
       "      <td>1</td>\n",
       "      <td>0</td>\n",
       "      <td>1</td>\n",
       "      <td>0</td>\n",
       "      <td>1</td>\n",
       "      <td>1</td>\n",
       "      <td>0</td>\n",
       "      <td>1</td>\n",
       "    </tr>\n",
       "    <tr>\n",
       "      <th>3</th>\n",
       "      <td>45</td>\n",
       "      <td>1</td>\n",
       "      <td>0</td>\n",
       "      <td>0</td>\n",
       "      <td>1</td>\n",
       "      <td>1</td>\n",
       "      <td>1</td>\n",
       "      <td>1</td>\n",
       "      <td>0</td>\n",
       "      <td>1</td>\n",
       "      <td>0</td>\n",
       "      <td>1</td>\n",
       "      <td>0</td>\n",
       "      <td>0</td>\n",
       "      <td>0</td>\n",
       "      <td>0</td>\n",
       "      <td>1</td>\n",
       "    </tr>\n",
       "    <tr>\n",
       "      <th>4</th>\n",
       "      <td>60</td>\n",
       "      <td>1</td>\n",
       "      <td>1</td>\n",
       "      <td>1</td>\n",
       "      <td>1</td>\n",
       "      <td>1</td>\n",
       "      <td>1</td>\n",
       "      <td>0</td>\n",
       "      <td>1</td>\n",
       "      <td>1</td>\n",
       "      <td>1</td>\n",
       "      <td>1</td>\n",
       "      <td>1</td>\n",
       "      <td>1</td>\n",
       "      <td>1</td>\n",
       "      <td>1</td>\n",
       "      <td>1</td>\n",
       "    </tr>\n",
       "  </tbody>\n",
       "</table>\n",
       "</div>"
      ],
      "text/plain": [
       "   Age  Gender  Polyuria  Polydipsia  sudden weight loss  weakness  \\\n",
       "0   40       1         0           1                   0         1   \n",
       "1   58       1         0           0                   0         1   \n",
       "2   41       1         1           0                   0         1   \n",
       "3   45       1         0           0                   1         1   \n",
       "4   60       1         1           1                   1         1   \n",
       "\n",
       "   Polyphagia  Genital thrush  visual blurring  Itching  Irritability  \\\n",
       "0           0               0                0        1             0   \n",
       "1           0               0                1        0             0   \n",
       "2           1               0                0        1             0   \n",
       "3           1               1                0        1             0   \n",
       "4           1               0                1        1             1   \n",
       "\n",
       "   delayed healing  partial paresis  muscle stiffness  Alopecia  Obesity  \\\n",
       "0                1                0                 1         1        1   \n",
       "1                0                1                 0         1        0   \n",
       "2                1                0                 1         1        0   \n",
       "3                1                0                 0         0        0   \n",
       "4                1                1                 1         1        1   \n",
       "\n",
       "   class  \n",
       "0      1  \n",
       "1      1  \n",
       "2      1  \n",
       "3      1  \n",
       "4      1  "
      ]
     },
     "execution_count": 32,
     "metadata": {},
     "output_type": "execute_result"
    }
   ],
   "source": [
    "labels = {'Gender': {'Male': 1, 'Female': 0}, 'class': {'Positive': 1, 'Negative': 0}, 'others': {'Yes': 1, 'No': 0}}\n",
    "catCols = df.select_dtypes(\"object\").columns\n",
    "\n",
    "for col in catCols:\n",
    "    label = labels.get(col, labels['others'])\n",
    "    \n",
    "    # to convert label from strings to integers\n",
    "    df[col] = df[col].map(label)\n",
    "    \n",
    "df.head()"
   ]
  },
  {
   "cell_type": "markdown",
   "metadata": {},
   "source": [
    "# IGNORE EVERYTHING BELOW "
   ]
  },
  {
   "cell_type": "markdown",
   "metadata": {},
   "source": [
    "## Get X and y"
   ]
  },
  {
   "cell_type": "code",
   "execution_count": 33,
   "metadata": {},
   "outputs": [
    {
     "name": "stdout",
     "output_type": "stream",
     "text": [
      "[[40  1  0 ...  1  1  1]\n",
      " [58  1  0 ...  0  1  0]\n",
      " [41  1  1 ...  1  1  0]\n",
      " ...\n",
      " [58  0  1 ...  1  0  1]\n",
      " [32  0  0 ...  0  1  0]\n",
      " [42  1  0 ...  0  0  0]]\n",
      "[1 1 1 1 1 1 1 1 1 1 1 1 1 1 1 1 1 1 1 1 1 1 1 1 1 1 1 1 1 1 1 1 1 1 1 1 1\n",
      " 1 1 1 1 1 1 1 1 1 1 1 1 1 1 1 1 1 1 1 1 1 1 1 1 1 1 1 1 1 1 1 1 1 1 1 1 1\n",
      " 1 1 1 1 1 1 1 1 1 1 1 1 1 1 1 1 1 1 1 1 1 1 1 1 1 1 1 1 1 1 1 1 1 1 1 1 1\n",
      " 1 1 1 1 1 1 1 1 1 1 1 1 1 1 1 1 1 1 1 1 1 1 1 1 1 1 1 1 1 1 1 1 1 1 1 1 1\n",
      " 1 1 1 1 1 1 1 1 1 1 1 1 1 1 1 1 1 1 1 1 1 1 1 1 1 1 1 1 1 1 1 1 1 1 1 1 1\n",
      " 1 1 1 1 1 1 1 1 1 1 1 1 1 1 1 0 0 0 0 0 0 0 0 0 0 0 0 0 0 0 0 0 0 0 0 0 0\n",
      " 0 0 0 0 0 0 0 0 0 0 0 0 0 0 0 0 0 0 0 0 0 0 0 0 0 0 0 1 1 1 1 1 1 1 1 1 1\n",
      " 1 1 1 1 1 1 1 1 1 1 1 1 1 0 0 0 0 0 0 0 0 0 0 0 0 0 0 0 0 0 0 0 0 0 0 0 1\n",
      " 1 1 1 1 1 1 1 1 1 0 0 0 0 0 0 0 0 0 0 0 0 0 0 0 0 0 0 0 0 0 0 0 0 0 0 0 0\n",
      " 0 0 0 0 1 1 1 1 1 1 1 1 1 1 0 0 0 0 0 0 0 0 0 0 0 1 1 1 1 1 1 1 1 1 1 1 0\n",
      " 0 0 0 0 0 0 0 0 1 1 1 1 1 1 1 1 0 0 0 0 0 0 0 0 0 0 0 0 0 0 0 0 0 0 0 0 0\n",
      " 0 0 0 0 0 0 0 1 1 1 1 1 1 1 1 1 1 1 1 1 1 1 1 1 1 1 1 1 1 1 1 1 1 1 1 1 1\n",
      " 1 1 1 1 1 1 1 1 1 1 1 1 1 1 1 1 0 0 0 0 0 0 0 0 0 0 0 0 0 0 0 0 0 0 0 0 0\n",
      " 0 0 1 1 1 1 1 0 0 0 0 0 0 0 0 0 0 1 0 1 0 0 0 0 0 0 0 0 0 0 0 0 1 1 1 1 1\n",
      " 0 0]\n"
     ]
    }
   ],
   "source": [
    "data = df.to_numpy()\n",
    "X = data[:, 0:16]\n",
    "y = data[:, 16]\n",
    "print(X)\n",
    "print(y)"
   ]
  },
  {
   "cell_type": "markdown",
   "metadata": {},
   "source": [
    "Splitting data into 70% training and 30% test data:"
   ]
  },
  {
   "cell_type": "code",
   "execution_count": 34,
   "metadata": {},
   "outputs": [
    {
     "name": "stdout",
     "output_type": "stream",
     "text": [
      "(374, 16)\n",
      "(146, 16)\n"
     ]
    }
   ],
   "source": [
    "from sklearn.model_selection import train_test_split\n",
    "\n",
    "X_train, X_test, y_train, y_test = train_test_split(\n",
    "    X, y, test_size=0.28, random_state=None, stratify=y)\n",
    "print(X_train.shape)\n",
    "print(X_test.shape)"
   ]
  },
  {
   "cell_type": "code",
   "execution_count": 35,
   "metadata": {},
   "outputs": [
    {
     "name": "stdout",
     "output_type": "stream",
     "text": [
      "Labels counts in y: [200 320]\n",
      "Labels counts in y_train: [144 230]\n",
      "Labels counts in y_test: [56 90]\n"
     ]
    }
   ],
   "source": [
    "print('Labels counts in y:', np.bincount(y))\n",
    "print('Labels counts in y_train:', np.bincount(y_train))\n",
    "print('Labels counts in y_test:', np.bincount(y_test))"
   ]
  },
  {
   "cell_type": "code",
   "execution_count": 36,
   "metadata": {},
   "outputs": [
    {
     "name": "stdout",
     "output_type": "stream",
     "text": [
      "[[40  1  0  1  0  1  0  0  0  1  0  1  0  1  1  1]\n",
      " [44  1  1  1  0  1  0  1  0  0  1  1  0  1  1  0]\n",
      " [62  1  1  1  0  1  1  0  1  0  1  0  1  1  0  0]\n",
      " [57  1  1  1  1  1  1  0  1  0  0  0  1  0  0  0]\n",
      " [53  0  0  1  1  0  1  1  1  1  1  1  0  1  0  0]\n",
      " [36  0  1  1  1  0  1  0  1  0  1  1  1  1  0  0]\n",
      " [65  0  1  1  0  1  1  0  0  1  0  0  1  1  0  0]\n",
      " [40  0  0  0  1  1  0  0  0  0  0  0  0  0  0  0]\n",
      " [35  0  1  1  0  1  0  0  1  0  0  0  0  0  0  0]\n",
      " [45  0  0  0  0  0  1  0  1  1  0  0  1  0  0  0]\n",
      " [48  0  1  1  1  0  1  1  0  0  1  1  0  1  1  1]\n",
      " [53  0  0  0  1  1  0  0  1  1  0  1  0  0  0  0]\n",
      " [48  1  1  1  0  1  1  0  0  0  0  1  0  1  1  0]\n",
      " [47  1  1  1  1  1  1  1  1  1  1  0  0  1  0  0]\n",
      " [47  1  1  1  0  0  0  0  0  0  0  0  0  1  0  0]\n",
      " [50  1  1  1  1  1  1  0  0  1  1  1  0  0  1  0]\n",
      " [28  0  0  0  0  0  0  0  1  0  0  0  1  1  0  0]\n",
      " [49  1  1  1  0  1  0  0  1  1  0  0  0  0  0  0]\n",
      " [40  0  1  1  1  1  0  0  1  1  0  0  1  1  0  0]\n",
      " [58  1  0  1  1  1  1  0  1  1  0  0  1  0  1  1]\n",
      " [40  1  0  1  1  1  0  0  1  1  0  0  1  1  0  0]\n",
      " [39  1  0  0  0  1  0  1  0  0  0  0  0  0  0  0]\n",
      " [38  1  0  0  0  0  0  0  0  0  0  0  0  0  0  0]\n",
      " [35  1  0  0  1  1  0  1  0  0  0  0  0  0  0  0]\n",
      " [45  1  0  0  0  1  0  0  0  1  0  0  1  0  1  0]\n",
      " [48  0  1  1  1  1  1  0  0  0  0  0  1  0  0  0]\n",
      " [33  1  0  1  0  0  0  0  0  0  0  0  0  0  0  0]\n",
      " [40  0  1  1  1  1  0  0  1  0  0  1  1  1  0  0]\n",
      " [40  1  0  0  1  0  0  0  0  0  0  0  0  0  0  1]\n",
      " [54  1  0  0  0  1  0  0  0  1  0  1  0  1  1  0]\n",
      " [35  0  1  1  0  1  0  0  1  0  0  0  0  0  0  0]\n",
      " [67  1  1  0  0  1  1  0  1  1  1  1  0  1  1  1]\n",
      " [65  0  0  0  0  1  0  0  0  1  0  1  0  0  1  0]\n",
      " [51  0  0  0  0  0  0  1  0  1  0  1  0  0  1  0]\n",
      " [39  0  1  1  1  1  1  0  0  1  1  1  1  0  0  0]\n",
      " [34  1  0  0  0  0  0  0  0  0  0  0  0  0  0  0]\n",
      " [56  1  1  0  1  1  0  1  0  1  1  0  0  0  1  0]\n",
      " [45  1  0  0  0  0  1  1  0  0  0  0  0  0  0  0]\n",
      " [49  1  1  1  1  0  0  0  0  1  0  0  0  0  0  0]\n",
      " [47  1  0  0  0  0  0  0  0  0  1  0  1  0  0  1]\n",
      " [44  1  1  0  1  1  0  1  0  1  0  1  0  0  1  1]\n",
      " [30  1  0  0  0  0  0  0  0  0  0  0  0  0  0  0]\n",
      " [47  0  0  0  1  1  1  0  0  0  0  0  0  1  0  0]\n",
      " [32  1  0  0  0  0  0  1  0  0  1  1  0  0  0  1]\n",
      " [48  1  1  1  0  1  0  1  1  1  0  0  0  0  0  0]\n",
      " [48  0  0  0  1  1  0  0  1  1  0  1  1  0  0  0]\n",
      " [47  1  0  0  0  0  0  0  0  1  0  0  0  0  1  0]\n",
      " [45  1  0  0  0  0  1  1  0  0  0  0  0  0  0  0]\n",
      " [46  1  0  0  0  1  0  0  0  1  0  1  0  0  1  0]\n",
      " [46  1  0  0  0  1  0  0  0  1  0  1  0  0  1  0]\n",
      " [66  1  1  0  1  0  0  1  0  1  1  0  0  0  1  0]\n",
      " [67  1  0  0  0  1  0  0  0  1  0  1  0  0  1  0]]\n"
     ]
    }
   ],
   "source": [
    "print(X[::10, :])"
   ]
  },
  {
   "cell_type": "markdown",
   "metadata": {},
   "source": [
    "## Standardizing features"
   ]
  },
  {
   "cell_type": "code",
   "execution_count": 37,
   "metadata": {},
   "outputs": [],
   "source": [
    "from sklearn.preprocessing import StandardScaler\n",
    "\n",
    "sc = StandardScaler()\n",
    "sc.fit(X_train)\n",
    "X_train_std = sc.transform(X_train)\n",
    "#sc.fit_transform(X_train)\n",
    "X_test_std = sc.transform(X_test)\n",
    "\n",
    "X_combined_std = np.vstack((X_train_std, X_test_std))\n",
    "y_combined = np.hstack((y_train, y_test))"
   ]
  },
  {
   "cell_type": "code",
   "execution_count": 38,
   "metadata": {},
   "outputs": [
    {
     "name": "stdout",
     "output_type": "stream",
     "text": [
      "[[-0.63769515  0.72562429 -1.00536197  1.11938021  1.18213193  0.83205029\n",
      "  -0.9030692  -0.53819622  1.08370596  1.03261723 -0.57117522 -0.89820003\n",
      "   1.1439589   1.29283741 -0.73854895 -0.44577791]\n",
      " [-0.80297442  0.72562429 -1.00536197 -0.89335151 -0.84592927 -1.20185043\n",
      "  -0.9030692  -0.53819622 -0.92275953 -0.96841305 -0.57117522 -0.89820003\n",
      "  -0.87415728 -0.77349247 -0.73854895 -0.44577791]\n",
      " [ 1.09773718  0.72562429 -1.00536197 -0.89335151 -0.84592927  0.83205029\n",
      "  -0.9030692   1.85805838 -0.92275953  1.03261723 -0.57117522  1.11333776\n",
      "  -0.87415728 -0.77349247  1.3540064  -0.44577791]\n",
      " [ 1.09773718 -1.37812365  0.99466663 -0.89335151 -0.84592927 -1.20185043\n",
      "   1.10733485 -0.53819622 -0.92275953 -0.96841305  1.75077623 -0.89820003\n",
      "  -0.87415728 -0.77349247  1.3540064  -0.44577791]\n",
      " [ 1.51093536  0.72562429 -1.00536197 -0.89335151 -0.84592927 -1.20185043\n",
      "   1.10733485 -0.53819622  1.08370596 -0.96841305 -0.57117522 -0.89820003\n",
      "   1.1439589  -0.77349247  1.3540064  -0.44577791]\n",
      " [-0.72033479 -1.37812365  0.99466663  1.11938021 -0.84592927 -1.20185043\n",
      "   1.10733485  1.85805838  1.08370596  1.03261723 -0.57117522  1.11333776\n",
      "   1.1439589  -0.77349247 -0.73854895 -0.44577791]\n",
      " [-0.05921771  0.72562429 -1.00536197 -0.89335151 -0.84592927 -1.20185043\n",
      "  -0.9030692  -0.53819622 -0.92275953  1.03261723 -0.57117522 -0.89820003\n",
      "  -0.87415728 -0.77349247  1.3540064  -0.44577791]\n",
      " [-1.87728967  0.72562429  0.99466663  1.11938021 -0.84592927 -1.20185043\n",
      "   1.10733485  1.85805838  1.08370596  1.03261723 -0.57117522  1.11333776\n",
      "  -0.87415728 -0.77349247  1.3540064  -0.44577791]\n",
      " [-0.38977625  0.72562429 -1.00536197 -0.89335151 -0.84592927  0.83205029\n",
      "  -0.9030692   1.85805838 -0.92275953  1.03261723 -0.57117522  1.11333776\n",
      "  -0.87415728 -0.77349247  1.3540064  -0.44577791]\n",
      " [ 0.84981828  0.72562429  0.99466663  1.11938021  1.18213193  0.83205029\n",
      "   1.10733485  1.85805838 -0.92275953  1.03261723  1.75077623  1.11333776\n",
      "   1.1439589   1.29283741  1.3540064   2.2432695 ]\n",
      " [ 0.4366201   0.72562429 -1.00536197 -0.89335151 -0.84592927  0.83205029\n",
      "   1.10733485 -0.53819622  1.08370596  1.03261723 -0.57117522  1.11333776\n",
      "   1.1439589   1.29283741  1.3540064  -0.44577791]\n",
      " [-1.29881223  0.72562429 -1.00536197 -0.89335151 -0.84592927  0.83205029\n",
      "  -0.9030692  -0.53819622 -0.92275953 -0.96841305 -0.57117522 -0.89820003\n",
      "  -0.87415728 -0.77349247 -0.73854895 -0.44577791]\n",
      " [ 0.84981828  0.72562429 -1.00536197  1.11938021 -0.84592927 -1.20185043\n",
      "  -0.9030692  -0.53819622  1.08370596  1.03261723 -0.57117522 -0.89820003\n",
      "  -0.87415728  1.29283741 -0.73854895 -0.44577791]\n",
      " [ 0.68453901  0.72562429  0.99466663 -0.89335151  1.18213193  0.83205029\n",
      "  -0.9030692   1.85805838 -0.92275953  1.03261723  1.75077623 -0.89820003\n",
      "  -0.87415728 -0.77349247  1.3540064  -0.44577791]\n",
      " [ 0.84981828  0.72562429 -1.00536197 -0.89335151 -0.84592927  0.83205029\n",
      "  -0.9030692  -0.53819622  1.08370596 -0.96841305 -0.57117522 -0.89820003\n",
      "   1.1439589  -0.77349247  1.3540064  -0.44577791]\n",
      " [-0.38977625  0.72562429 -1.00536197 -0.89335151 -0.84592927  0.83205029\n",
      "  -0.9030692   1.85805838 -0.92275953  1.03261723 -0.57117522 -0.89820003\n",
      "  -0.87415728 -0.77349247  1.3540064  -0.44577791]\n",
      " [-1.4640915  -1.37812365  0.99466663  1.11938021  1.18213193  0.83205029\n",
      "  -0.9030692  -0.53819622 -0.92275953  1.03261723 -0.57117522  1.11333776\n",
      "   1.1439589   1.29283741 -0.73854895 -0.44577791]\n",
      " [-0.05921771  0.72562429 -1.00536197 -0.89335151 -0.84592927 -1.20185043\n",
      "  -0.9030692  -0.53819622 -0.92275953  1.03261723 -0.57117522  1.11333776\n",
      "  -0.87415728 -0.77349247  1.3540064  -0.44577791]\n",
      " [ 0.68453901  0.72562429  0.99466663 -0.89335151  1.18213193  0.83205029\n",
      "  -0.9030692   1.85805838 -0.92275953  1.03261723  1.75077623 -0.89820003\n",
      "  -0.87415728 -0.77349247  1.3540064  -0.44577791]\n",
      " [-1.13353296 -1.37812365  0.99466663  1.11938021 -0.84592927  0.83205029\n",
      "  -0.9030692  -0.53819622 -0.92275953 -0.96841305  1.75077623 -0.89820003\n",
      "  -0.87415728  1.29283741 -0.73854895 -0.44577791]\n",
      " [ 1.75885426 -1.37812365  0.99466663  1.11938021  1.18213193  0.83205029\n",
      "  -0.9030692  -0.53819622  1.08370596  1.03261723  1.75077623 -0.89820003\n",
      "  -0.87415728  1.29283741 -0.73854895  2.2432695 ]\n",
      " [ 1.09773718 -1.37812365  0.99466663 -0.89335151 -0.84592927 -1.20185043\n",
      "   1.10733485 -0.53819622 -0.92275953 -0.96841305  1.75077623 -0.89820003\n",
      "  -0.87415728 -0.77349247  1.3540064  -0.44577791]\n",
      " [ 0.76717864  0.72562429  0.99466663  1.11938021  1.18213193  0.83205029\n",
      "   1.10733485 -0.53819622  1.08370596 -0.96841305 -0.57117522 -0.89820003\n",
      "   1.1439589  -0.77349247 -0.73854895 -0.44577791]\n",
      " [-0.63769515 -1.37812365  0.99466663  1.11938021  1.18213193  0.83205029\n",
      "  -0.9030692  -0.53819622  1.08370596 -0.96841305 -0.57117522  1.11333776\n",
      "   1.1439589   1.29283741 -0.73854895 -0.44577791]\n",
      " [-0.80297442  0.72562429 -1.00536197  1.11938021 -0.84592927 -1.20185043\n",
      "  -0.9030692   1.85805838 -0.92275953 -0.96841305 -0.57117522 -0.89820003\n",
      "  -0.87415728 -0.77349247  1.3540064  -0.44577791]\n",
      " [ 0.02342193 -1.37812365  0.99466663  1.11938021  1.18213193  0.83205029\n",
      "   1.10733485 -0.53819622 -0.92275953 -0.96841305 -0.57117522 -0.89820003\n",
      "   1.1439589  -0.77349247 -0.73854895 -0.44577791]\n",
      " [ 0.84981828 -1.37812365  0.99466663  1.11938021  1.18213193  0.83205029\n",
      "   1.10733485 -0.53819622  1.08370596 -0.96841305 -0.57117522 -0.89820003\n",
      "   1.1439589   1.29283741 -0.73854895  2.2432695 ]\n",
      " [ 0.68453901 -1.37812365  0.99466663  1.11938021 -0.84592927  0.83205029\n",
      "  -0.9030692  -0.53819622  1.08370596  1.03261723 -0.57117522 -0.89820003\n",
      "   1.1439589  -0.77349247 -0.73854895 -0.44577791]\n",
      " [ 0.60189937 -1.37812365  0.99466663  1.11938021  1.18213193 -1.20185043\n",
      "   1.10733485 -0.53819622 -0.92275953  1.03261723 -0.57117522  1.11333776\n",
      "   1.1439589  -0.77349247 -0.73854895 -0.44577791]\n",
      " [-1.4640915  -1.37812365  0.99466663  1.11938021  1.18213193 -1.20185043\n",
      "   1.10733485 -0.53819622 -0.92275953 -0.96841305  1.75077623 -0.89820003\n",
      "   1.1439589   1.29283741 -0.73854895 -0.44577791]\n",
      " [-0.55505552  0.72562429  0.99466663  1.11938021  1.18213193  0.83205029\n",
      "   1.10733485  1.85805838  1.08370596  1.03261723  1.75077623 -0.89820003\n",
      "  -0.87415728 -0.77349247 -0.73854895  2.2432695 ]\n",
      " [-0.80297442  0.72562429  0.99466663 -0.89335151 -0.84592927 -1.20185043\n",
      "  -0.9030692   1.85805838 -0.92275953  1.03261723 -0.57117522 -0.89820003\n",
      "  -0.87415728  1.29283741 -0.73854895  2.2432695 ]\n",
      " [-1.4640915   0.72562429 -1.00536197 -0.89335151 -0.84592927 -1.20185043\n",
      "  -0.9030692  -0.53819622 -0.92275953 -0.96841305 -0.57117522 -0.89820003\n",
      "  -0.87415728 -0.77349247 -0.73854895 -0.44577791]\n",
      " [ 0.1887012  -1.37812365 -1.00536197  1.11938021  1.18213193  0.83205029\n",
      "  -0.9030692  -0.53819622  1.08370596 -0.96841305 -0.57117522  1.11333776\n",
      "  -0.87415728 -0.77349247 -0.73854895 -0.44577791]\n",
      " [ 0.51925974  0.72562429  0.99466663  1.11938021  1.18213193  0.83205029\n",
      "  -0.9030692  -0.53819622  1.08370596  1.03261723  1.75077623  1.11333776\n",
      "   1.1439589   1.29283741 -0.73854895 -0.44577791]\n",
      " [ 1.01509755 -1.37812365  0.99466663  1.11938021  1.18213193  0.83205029\n",
      "   1.10733485 -0.53819622  1.08370596  1.03261723 -0.57117522  1.11333776\n",
      "   1.1439589   1.29283741 -0.73854895  2.2432695 ]\n",
      " [ 2.00677317  0.72562429  0.99466663 -0.89335151  1.18213193  0.83205029\n",
      "   1.10733485 -0.53819622 -0.92275953 -0.96841305  1.75077623  1.11333776\n",
      "   1.1439589   1.29283741  1.3540064  -0.44577791]\n",
      " [-1.4640915  -1.37812365  0.99466663 -0.89335151  1.18213193  0.83205029\n",
      "   1.10733485 -0.53819622 -0.92275953 -0.96841305 -0.57117522  1.11333776\n",
      "  -0.87415728 -0.77349247 -0.73854895 -0.44577791]]\n"
     ]
    }
   ],
   "source": [
    "print(X_train_std[::10, :])"
   ]
  },
  {
   "cell_type": "markdown",
   "metadata": {},
   "source": [
    "## Training a logistic regression with scikit-learn"
   ]
  },
  {
   "cell_type": "code",
   "execution_count": 48,
   "metadata": {},
   "outputs": [
    {
     "data": {
      "text/plain": [
       "LogisticRegression(C=1)"
      ]
     },
     "execution_count": 48,
     "metadata": {},
     "output_type": "execute_result"
    }
   ],
   "source": [
    "from sklearn.linear_model import LogisticRegression\n",
    "lr = LogisticRegression(C=1)\n",
    "lr.fit(X_train_std, y_train)"
   ]
  },
  {
   "cell_type": "markdown",
   "metadata": {},
   "source": [
    "## Check the performance of the model"
   ]
  },
  {
   "cell_type": "code",
   "execution_count": 49,
   "metadata": {},
   "outputs": [
    {
     "name": "stdout",
     "output_type": "stream",
     "text": [
      "Training score =  0.9385026737967914\n",
      "Test score =  0.9246575342465754\n"
     ]
    }
   ],
   "source": [
    "# Calculate the score of training data\n",
    "\n",
    "score_train = lr.score(X_train_std, y_train)\n",
    "print(\"Training score = \",score_train)\n",
    "\n",
    "score_test = lr.score(X_test_std, y_test)\n",
    "print(\"Test score = \", score_test)"
   ]
  },
  {
   "cell_type": "code",
   "execution_count": 50,
   "metadata": {},
   "outputs": [
    {
     "name": "stdout",
     "output_type": "stream",
     "text": [
      "[1 0 0 1 0 1 0 1 0 1 0 0 0 1 0 0 1 0 1 1 1 1 1 1 1 1 1 1 1 1 1 0 0 1 1 1 1\n",
      " 1]\n",
      "[[3.70199345e-01 6.29800655e-01]\n",
      " [9.55280365e-01 4.47196351e-02]\n",
      " [9.36646336e-01 6.33536639e-02]\n",
      " [2.37476935e-03 9.97625231e-01]\n",
      " [7.44243271e-01 2.55756729e-01]\n",
      " [6.27101476e-05 9.99937290e-01]\n",
      " [9.93504947e-01 6.49505306e-03]\n",
      " [5.90975284e-03 9.94090247e-01]\n",
      " [9.14485214e-01 8.55147864e-02]\n",
      " [5.56311801e-04 9.99443688e-01]\n",
      " [9.42775049e-01 5.72249512e-02]\n",
      " [9.09577314e-01 9.04226863e-02]\n",
      " [8.95034807e-01 1.04965193e-01]\n",
      " [7.05717782e-02 9.29428222e-01]\n",
      " [7.64198307e-01 2.35801693e-01]\n",
      " [9.13662981e-01 8.63370192e-02]\n",
      " [6.79980579e-04 9.99320019e-01]\n",
      " [9.93572152e-01 6.42784781e-03]\n",
      " [7.05717782e-02 9.29428222e-01]\n",
      " [8.64410794e-05 9.99913559e-01]\n",
      " [1.62767702e-03 9.98372323e-01]\n",
      " [2.37476935e-03 9.97625231e-01]\n",
      " [1.15402807e-03 9.98845972e-01]\n",
      " [1.11865320e-04 9.99888135e-01]\n",
      " [5.00106783e-02 9.49989322e-01]\n",
      " [2.81363036e-05 9.99971864e-01]\n",
      " [1.15209133e-04 9.99884791e-01]\n",
      " [7.64167353e-04 9.99235833e-01]\n",
      " [4.45801872e-04 9.99554198e-01]\n",
      " [1.13629159e-05 9.99988637e-01]\n",
      " [1.07176953e-03 9.98928230e-01]\n",
      " [7.83134835e-01 2.16865165e-01]\n",
      " [9.48711403e-01 5.12885975e-02]\n",
      " [6.19304946e-03 9.93806951e-01]\n",
      " [5.72958427e-03 9.94270416e-01]\n",
      " [8.74898404e-04 9.99125102e-01]\n",
      " [1.78914631e-02 9.82108537e-01]\n",
      " [4.09840512e-03 9.95901595e-01]]\n",
      "[0 0 0 1 1 1 0 1 0 1 0 0 0 1 1 0 1 0 1 1 1 1 1 1 1 1 1 1 1 1 1 1 0 1 1 1 1\n",
      " 1]\n"
     ]
    }
   ],
   "source": [
    "print(lr.predict(X_train_std[::10, :]))\n",
    "print(lr.predict_proba(X_train_std[::10, :]))\n",
    "print(y_train[::10])"
   ]
  },
  {
   "cell_type": "markdown",
   "metadata": {},
   "source": [
    "## Parameters of the model"
   ]
  },
  {
   "cell_type": "code",
   "execution_count": 51,
   "metadata": {},
   "outputs": [
    {
     "name": "stdout",
     "output_type": "stream",
     "text": [
      "Coef:  [[-2.17746626e-01 -1.69067305e+00  1.51937775e+00  1.92620021e+00\n",
      "   1.39874896e-01  3.17193645e-01  4.46075156e-01  8.15387698e-01\n",
      "   1.80458100e-03 -9.90320404e-01  7.96139514e-01 -5.20432214e-03\n",
      "   7.04557684e-01 -3.00356470e-01  8.36324887e-02 -2.27893224e-01]]\n",
      "Intercept:  [2.41630794]\n",
      "n_iter:  [19]\n"
     ]
    }
   ],
   "source": [
    "print(\"Coef: \", lr.coef_)\n",
    "print(\"Intercept: \", lr.intercept_)\n",
    "print(\"n_iter: \", lr.n_iter_)"
   ]
  },
  {
   "cell_type": "code",
   "execution_count": 52,
   "metadata": {},
   "outputs": [
    {
     "name": "stdout",
     "output_type": "stream",
     "text": [
      "(520, 16)\n"
     ]
    }
   ],
   "source": [
    "print(X.shape)"
   ]
  },
  {
   "cell_type": "code",
   "execution_count": 53,
   "metadata": {
    "scrolled": false
   },
   "outputs": [
    {
     "ename": "ValueError",
     "evalue": "X has 2 features per sample; expecting 16",
     "output_type": "error",
     "traceback": [
      "\u001b[0;31m---------------------------------------------------------------------------\u001b[0m",
      "\u001b[0;31mValueError\u001b[0m                                Traceback (most recent call last)",
      "\u001b[0;32m<ipython-input-53-883043db4f89>\u001b[0m in \u001b[0;36m<module>\u001b[0;34m\u001b[0m\n\u001b[0;32m----> 1\u001b[0;31m plot_decision_regions(X_combined_std, y_combined,\n\u001b[0m\u001b[1;32m      2\u001b[0m                       classifier=lr, test_idx=range(105, 150))\n\u001b[1;32m      3\u001b[0m \u001b[0mplt\u001b[0m\u001b[0;34m.\u001b[0m\u001b[0mxlabel\u001b[0m\u001b[0;34m(\u001b[0m\u001b[0;34m'petal length [standardized]'\u001b[0m\u001b[0;34m)\u001b[0m\u001b[0;34m\u001b[0m\u001b[0;34m\u001b[0m\u001b[0m\n\u001b[1;32m      4\u001b[0m \u001b[0mplt\u001b[0m\u001b[0;34m.\u001b[0m\u001b[0mylabel\u001b[0m\u001b[0;34m(\u001b[0m\u001b[0;34m'petal width [standardized]'\u001b[0m\u001b[0;34m)\u001b[0m\u001b[0;34m\u001b[0m\u001b[0;34m\u001b[0m\u001b[0m\n\u001b[1;32m      5\u001b[0m \u001b[0mplt\u001b[0m\u001b[0;34m.\u001b[0m\u001b[0mlegend\u001b[0m\u001b[0;34m(\u001b[0m\u001b[0mloc\u001b[0m\u001b[0;34m=\u001b[0m\u001b[0;34m'upper left'\u001b[0m\u001b[0;34m)\u001b[0m\u001b[0;34m\u001b[0m\u001b[0;34m\u001b[0m\u001b[0m\n",
      "\u001b[0;32m<ipython-input-27-d68dbf626840>\u001b[0m in \u001b[0;36mplot_decision_regions\u001b[0;34m(X, y, classifier, test_idx, resolution)\u001b[0m\n\u001b[1;32m     15\u001b[0m     xx1, xx2 = np.meshgrid(np.arange(x1_min, x1_max, resolution),\n\u001b[1;32m     16\u001b[0m                            np.arange(x2_min, x2_max, resolution))\n\u001b[0;32m---> 17\u001b[0;31m     \u001b[0mZ\u001b[0m \u001b[0;34m=\u001b[0m \u001b[0mclassifier\u001b[0m\u001b[0;34m.\u001b[0m\u001b[0mpredict\u001b[0m\u001b[0;34m(\u001b[0m\u001b[0mnp\u001b[0m\u001b[0;34m.\u001b[0m\u001b[0marray\u001b[0m\u001b[0;34m(\u001b[0m\u001b[0;34m[\u001b[0m\u001b[0mxx1\u001b[0m\u001b[0;34m.\u001b[0m\u001b[0mravel\u001b[0m\u001b[0;34m(\u001b[0m\u001b[0;34m)\u001b[0m\u001b[0;34m,\u001b[0m \u001b[0mxx2\u001b[0m\u001b[0;34m.\u001b[0m\u001b[0mravel\u001b[0m\u001b[0;34m(\u001b[0m\u001b[0;34m)\u001b[0m\u001b[0;34m]\u001b[0m\u001b[0;34m)\u001b[0m\u001b[0;34m.\u001b[0m\u001b[0mT\u001b[0m\u001b[0;34m)\u001b[0m\u001b[0;34m\u001b[0m\u001b[0;34m\u001b[0m\u001b[0m\n\u001b[0m\u001b[1;32m     18\u001b[0m     \u001b[0mZ\u001b[0m \u001b[0;34m=\u001b[0m \u001b[0mZ\u001b[0m\u001b[0;34m.\u001b[0m\u001b[0mreshape\u001b[0m\u001b[0;34m(\u001b[0m\u001b[0mxx1\u001b[0m\u001b[0;34m.\u001b[0m\u001b[0mshape\u001b[0m\u001b[0;34m)\u001b[0m\u001b[0;34m\u001b[0m\u001b[0;34m\u001b[0m\u001b[0m\n\u001b[1;32m     19\u001b[0m     \u001b[0mplt\u001b[0m\u001b[0;34m.\u001b[0m\u001b[0mcontourf\u001b[0m\u001b[0;34m(\u001b[0m\u001b[0mxx1\u001b[0m\u001b[0;34m,\u001b[0m \u001b[0mxx2\u001b[0m\u001b[0;34m,\u001b[0m \u001b[0mZ\u001b[0m\u001b[0;34m,\u001b[0m \u001b[0malpha\u001b[0m\u001b[0;34m=\u001b[0m\u001b[0;36m0.3\u001b[0m\u001b[0;34m,\u001b[0m \u001b[0mcmap\u001b[0m\u001b[0;34m=\u001b[0m\u001b[0mcmap\u001b[0m\u001b[0;34m)\u001b[0m\u001b[0;34m\u001b[0m\u001b[0;34m\u001b[0m\u001b[0m\n",
      "\u001b[0;32m~/opt/anaconda3/lib/python3.8/site-packages/sklearn/linear_model/_base.py\u001b[0m in \u001b[0;36mpredict\u001b[0;34m(self, X)\u001b[0m\n\u001b[1;32m    305\u001b[0m             \u001b[0mPredicted\u001b[0m \u001b[0;32mclass\u001b[0m \u001b[0mlabel\u001b[0m \u001b[0mper\u001b[0m \u001b[0msample\u001b[0m\u001b[0;34m.\u001b[0m\u001b[0;34m\u001b[0m\u001b[0;34m\u001b[0m\u001b[0m\n\u001b[1;32m    306\u001b[0m         \"\"\"\n\u001b[0;32m--> 307\u001b[0;31m         \u001b[0mscores\u001b[0m \u001b[0;34m=\u001b[0m \u001b[0mself\u001b[0m\u001b[0;34m.\u001b[0m\u001b[0mdecision_function\u001b[0m\u001b[0;34m(\u001b[0m\u001b[0mX\u001b[0m\u001b[0;34m)\u001b[0m\u001b[0;34m\u001b[0m\u001b[0;34m\u001b[0m\u001b[0m\n\u001b[0m\u001b[1;32m    308\u001b[0m         \u001b[0;32mif\u001b[0m \u001b[0mlen\u001b[0m\u001b[0;34m(\u001b[0m\u001b[0mscores\u001b[0m\u001b[0;34m.\u001b[0m\u001b[0mshape\u001b[0m\u001b[0;34m)\u001b[0m \u001b[0;34m==\u001b[0m \u001b[0;36m1\u001b[0m\u001b[0;34m:\u001b[0m\u001b[0;34m\u001b[0m\u001b[0;34m\u001b[0m\u001b[0m\n\u001b[1;32m    309\u001b[0m             \u001b[0mindices\u001b[0m \u001b[0;34m=\u001b[0m \u001b[0;34m(\u001b[0m\u001b[0mscores\u001b[0m \u001b[0;34m>\u001b[0m \u001b[0;36m0\u001b[0m\u001b[0;34m)\u001b[0m\u001b[0;34m.\u001b[0m\u001b[0mastype\u001b[0m\u001b[0;34m(\u001b[0m\u001b[0mnp\u001b[0m\u001b[0;34m.\u001b[0m\u001b[0mint\u001b[0m\u001b[0;34m)\u001b[0m\u001b[0;34m\u001b[0m\u001b[0;34m\u001b[0m\u001b[0m\n",
      "\u001b[0;32m~/opt/anaconda3/lib/python3.8/site-packages/sklearn/linear_model/_base.py\u001b[0m in \u001b[0;36mdecision_function\u001b[0;34m(self, X)\u001b[0m\n\u001b[1;32m    284\u001b[0m         \u001b[0mn_features\u001b[0m \u001b[0;34m=\u001b[0m \u001b[0mself\u001b[0m\u001b[0;34m.\u001b[0m\u001b[0mcoef_\u001b[0m\u001b[0;34m.\u001b[0m\u001b[0mshape\u001b[0m\u001b[0;34m[\u001b[0m\u001b[0;36m1\u001b[0m\u001b[0;34m]\u001b[0m\u001b[0;34m\u001b[0m\u001b[0;34m\u001b[0m\u001b[0m\n\u001b[1;32m    285\u001b[0m         \u001b[0;32mif\u001b[0m \u001b[0mX\u001b[0m\u001b[0;34m.\u001b[0m\u001b[0mshape\u001b[0m\u001b[0;34m[\u001b[0m\u001b[0;36m1\u001b[0m\u001b[0;34m]\u001b[0m \u001b[0;34m!=\u001b[0m \u001b[0mn_features\u001b[0m\u001b[0;34m:\u001b[0m\u001b[0;34m\u001b[0m\u001b[0;34m\u001b[0m\u001b[0m\n\u001b[0;32m--> 286\u001b[0;31m             raise ValueError(\"X has %d features per sample; expecting %d\"\n\u001b[0m\u001b[1;32m    287\u001b[0m                              % (X.shape[1], n_features))\n\u001b[1;32m    288\u001b[0m \u001b[0;34m\u001b[0m\u001b[0m\n",
      "\u001b[0;31mValueError\u001b[0m: X has 2 features per sample; expecting 16"
     ]
    }
   ],
   "source": [
    "plot_decision_regions(X_combined_std, y_combined,\n",
    "                      classifier=lr, test_idx=range(105, 150))\n",
    "plt.xlabel('petal length [standardized]')\n",
    "plt.ylabel('petal width [standardized]')\n",
    "plt.legend(loc='upper left')\n",
    "plt.tight_layout()\n",
    "#plt.savefig('images/03_06.png', dpi=300)\n",
    "plt.show()"
   ]
  },
  {
   "cell_type": "markdown",
   "metadata": {},
   "source": [
    "## Training Support Vector Machines with scikit-learn"
   ]
  },
  {
   "cell_type": "code",
   "execution_count": 54,
   "metadata": {},
   "outputs": [
    {
     "data": {
      "text/plain": [
       "SVC(C=1000, kernel='linear', probability=True)"
      ]
     },
     "execution_count": 54,
     "metadata": {},
     "output_type": "execute_result"
    }
   ],
   "source": [
    "from sklearn.svm import SVC\n",
    "svc = SVC(C=1000, probability=True, kernel='linear')\n",
    "svc.fit(X_train_std, y_train)"
   ]
  },
  {
   "cell_type": "markdown",
   "metadata": {},
   "source": [
    "## Check the performance of the model"
   ]
  },
  {
   "cell_type": "code",
   "execution_count": 55,
   "metadata": {},
   "outputs": [
    {
     "name": "stdout",
     "output_type": "stream",
     "text": [
      "Training score =  0.9358288770053476\n",
      "Test score =  0.952054794520548\n"
     ]
    }
   ],
   "source": [
    "# Calculate the score of training data\n",
    "\n",
    "score_train = svc.score(X_train_std, y_train)\n",
    "print(\"Training score = \",score_train)\n",
    "\n",
    "score_test = svc.score(X_test_std, y_test)\n",
    "print(\"Test score = \", score_test)"
   ]
  },
  {
   "cell_type": "code",
   "execution_count": 56,
   "metadata": {},
   "outputs": [
    {
     "name": "stdout",
     "output_type": "stream",
     "text": [
      "[1 0 0 1 0 1 0 1 0 1 0 0 0 1 0 0 1 0 1 1 1 1 1 1 1 1 1 1 1 1 1 0 0 1 1 1 1\n",
      " 1]\n",
      "[[3.99218068e-01 6.00781932e-01]\n",
      " [8.73739396e-01 1.26260604e-01]\n",
      " [9.27117656e-01 7.28823445e-02]\n",
      " [3.08623116e-02 9.69137688e-01]\n",
      " [6.24076341e-01 3.75923659e-01]\n",
      " [9.42338856e-06 9.99990577e-01]\n",
      " [9.74493555e-01 2.55064451e-02]\n",
      " [3.62412526e-02 9.63758747e-01]\n",
      " [8.92791200e-01 1.07208800e-01]\n",
      " [1.89523916e-02 9.81047608e-01]\n",
      " [8.74531867e-01 1.25468133e-01]\n",
      " [7.97437014e-01 2.02562986e-01]\n",
      " [8.44423456e-01 1.55576544e-01]\n",
      " [3.17576797e-01 6.82423203e-01]\n",
      " [6.53564587e-01 3.46435413e-01]\n",
      " [8.85180231e-01 1.14819769e-01]\n",
      " [1.21293719e-02 9.87870628e-01]\n",
      " [9.76377125e-01 2.36228745e-02]\n",
      " [3.17576797e-01 6.82423203e-01]\n",
      " [3.13902136e-03 9.96860979e-01]\n",
      " [3.72697617e-02 9.62730238e-01]\n",
      " [3.08623116e-02 9.69137688e-01]\n",
      " [9.10349710e-03 9.90896503e-01]\n",
      " [2.78784543e-03 9.97212155e-01]\n",
      " [1.54575333e-01 8.45424667e-01]\n",
      " [3.17887515e-06 9.99996821e-01]\n",
      " [3.22482076e-03 9.96775179e-01]\n",
      " [1.01009546e-02 9.89899045e-01]\n",
      " [8.73780024e-03 9.91262200e-01]\n",
      " [1.06249817e-06 9.99998938e-01]\n",
      " [1.55283184e-02 9.84471682e-01]\n",
      " [8.31283880e-01 1.68716120e-01]\n",
      " [8.51465415e-01 1.48534585e-01]\n",
      " [3.75562957e-02 9.62443704e-01]\n",
      " [4.72868826e-02 9.52713117e-01]\n",
      " [1.58855250e-02 9.84114475e-01]\n",
      " [1.21610402e-01 8.78389598e-01]\n",
      " [2.86520226e-02 9.71347977e-01]]\n",
      "[0 0 0 1 1 1 0 1 0 1 0 0 0 1 1 0 1 0 1 1 1 1 1 1 1 1 1 1 1 1 1 1 0 1 1 1 1\n",
      " 1]\n"
     ]
    }
   ],
   "source": [
    "print(svc.predict(X_train_std[::10, :]))\n",
    "print(svc.predict_proba(X_train_std[::10, :]))\n",
    "print(y_train[::10])"
   ]
  },
  {
   "cell_type": "markdown",
   "metadata": {},
   "source": [
    "## Parameters of the model"
   ]
  },
  {
   "cell_type": "code",
   "execution_count": 57,
   "metadata": {},
   "outputs": [
    {
     "name": "stdout",
     "output_type": "stream",
     "text": [
      "n_support:  [35 43]\n"
     ]
    }
   ],
   "source": [
    "print(\"n_support: \", svc.n_support_)"
   ]
  },
  {
   "cell_type": "code",
   "execution_count": 58,
   "metadata": {},
   "outputs": [
    {
     "name": "stdout",
     "output_type": "stream",
     "text": [
      "(520, 16)\n"
     ]
    }
   ],
   "source": [
    "print(X.shape)"
   ]
  },
  {
   "cell_type": "code",
   "execution_count": 59,
   "metadata": {
    "scrolled": false
   },
   "outputs": [
    {
     "ename": "ValueError",
     "evalue": "X has 2 features per sample; expecting 16",
     "output_type": "error",
     "traceback": [
      "\u001b[0;31m---------------------------------------------------------------------------\u001b[0m",
      "\u001b[0;31mValueError\u001b[0m                                Traceback (most recent call last)",
      "\u001b[0;32m<ipython-input-59-883043db4f89>\u001b[0m in \u001b[0;36m<module>\u001b[0;34m\u001b[0m\n\u001b[0;32m----> 1\u001b[0;31m plot_decision_regions(X_combined_std, y_combined,\n\u001b[0m\u001b[1;32m      2\u001b[0m                       classifier=lr, test_idx=range(105, 150))\n\u001b[1;32m      3\u001b[0m \u001b[0mplt\u001b[0m\u001b[0;34m.\u001b[0m\u001b[0mxlabel\u001b[0m\u001b[0;34m(\u001b[0m\u001b[0;34m'petal length [standardized]'\u001b[0m\u001b[0;34m)\u001b[0m\u001b[0;34m\u001b[0m\u001b[0;34m\u001b[0m\u001b[0m\n\u001b[1;32m      4\u001b[0m \u001b[0mplt\u001b[0m\u001b[0;34m.\u001b[0m\u001b[0mylabel\u001b[0m\u001b[0;34m(\u001b[0m\u001b[0;34m'petal width [standardized]'\u001b[0m\u001b[0;34m)\u001b[0m\u001b[0;34m\u001b[0m\u001b[0;34m\u001b[0m\u001b[0m\n\u001b[1;32m      5\u001b[0m \u001b[0mplt\u001b[0m\u001b[0;34m.\u001b[0m\u001b[0mlegend\u001b[0m\u001b[0;34m(\u001b[0m\u001b[0mloc\u001b[0m\u001b[0;34m=\u001b[0m\u001b[0;34m'upper left'\u001b[0m\u001b[0;34m)\u001b[0m\u001b[0;34m\u001b[0m\u001b[0;34m\u001b[0m\u001b[0m\n",
      "\u001b[0;32m<ipython-input-27-d68dbf626840>\u001b[0m in \u001b[0;36mplot_decision_regions\u001b[0;34m(X, y, classifier, test_idx, resolution)\u001b[0m\n\u001b[1;32m     15\u001b[0m     xx1, xx2 = np.meshgrid(np.arange(x1_min, x1_max, resolution),\n\u001b[1;32m     16\u001b[0m                            np.arange(x2_min, x2_max, resolution))\n\u001b[0;32m---> 17\u001b[0;31m     \u001b[0mZ\u001b[0m \u001b[0;34m=\u001b[0m \u001b[0mclassifier\u001b[0m\u001b[0;34m.\u001b[0m\u001b[0mpredict\u001b[0m\u001b[0;34m(\u001b[0m\u001b[0mnp\u001b[0m\u001b[0;34m.\u001b[0m\u001b[0marray\u001b[0m\u001b[0;34m(\u001b[0m\u001b[0;34m[\u001b[0m\u001b[0mxx1\u001b[0m\u001b[0;34m.\u001b[0m\u001b[0mravel\u001b[0m\u001b[0;34m(\u001b[0m\u001b[0;34m)\u001b[0m\u001b[0;34m,\u001b[0m \u001b[0mxx2\u001b[0m\u001b[0;34m.\u001b[0m\u001b[0mravel\u001b[0m\u001b[0;34m(\u001b[0m\u001b[0;34m)\u001b[0m\u001b[0;34m]\u001b[0m\u001b[0;34m)\u001b[0m\u001b[0;34m.\u001b[0m\u001b[0mT\u001b[0m\u001b[0;34m)\u001b[0m\u001b[0;34m\u001b[0m\u001b[0;34m\u001b[0m\u001b[0m\n\u001b[0m\u001b[1;32m     18\u001b[0m     \u001b[0mZ\u001b[0m \u001b[0;34m=\u001b[0m \u001b[0mZ\u001b[0m\u001b[0;34m.\u001b[0m\u001b[0mreshape\u001b[0m\u001b[0;34m(\u001b[0m\u001b[0mxx1\u001b[0m\u001b[0;34m.\u001b[0m\u001b[0mshape\u001b[0m\u001b[0;34m)\u001b[0m\u001b[0;34m\u001b[0m\u001b[0;34m\u001b[0m\u001b[0m\n\u001b[1;32m     19\u001b[0m     \u001b[0mplt\u001b[0m\u001b[0;34m.\u001b[0m\u001b[0mcontourf\u001b[0m\u001b[0;34m(\u001b[0m\u001b[0mxx1\u001b[0m\u001b[0;34m,\u001b[0m \u001b[0mxx2\u001b[0m\u001b[0;34m,\u001b[0m \u001b[0mZ\u001b[0m\u001b[0;34m,\u001b[0m \u001b[0malpha\u001b[0m\u001b[0;34m=\u001b[0m\u001b[0;36m0.3\u001b[0m\u001b[0;34m,\u001b[0m \u001b[0mcmap\u001b[0m\u001b[0;34m=\u001b[0m\u001b[0mcmap\u001b[0m\u001b[0;34m)\u001b[0m\u001b[0;34m\u001b[0m\u001b[0;34m\u001b[0m\u001b[0m\n",
      "\u001b[0;32m~/opt/anaconda3/lib/python3.8/site-packages/sklearn/linear_model/_base.py\u001b[0m in \u001b[0;36mpredict\u001b[0;34m(self, X)\u001b[0m\n\u001b[1;32m    305\u001b[0m             \u001b[0mPredicted\u001b[0m \u001b[0;32mclass\u001b[0m \u001b[0mlabel\u001b[0m \u001b[0mper\u001b[0m \u001b[0msample\u001b[0m\u001b[0;34m.\u001b[0m\u001b[0;34m\u001b[0m\u001b[0;34m\u001b[0m\u001b[0m\n\u001b[1;32m    306\u001b[0m         \"\"\"\n\u001b[0;32m--> 307\u001b[0;31m         \u001b[0mscores\u001b[0m \u001b[0;34m=\u001b[0m \u001b[0mself\u001b[0m\u001b[0;34m.\u001b[0m\u001b[0mdecision_function\u001b[0m\u001b[0;34m(\u001b[0m\u001b[0mX\u001b[0m\u001b[0;34m)\u001b[0m\u001b[0;34m\u001b[0m\u001b[0;34m\u001b[0m\u001b[0m\n\u001b[0m\u001b[1;32m    308\u001b[0m         \u001b[0;32mif\u001b[0m \u001b[0mlen\u001b[0m\u001b[0;34m(\u001b[0m\u001b[0mscores\u001b[0m\u001b[0;34m.\u001b[0m\u001b[0mshape\u001b[0m\u001b[0;34m)\u001b[0m \u001b[0;34m==\u001b[0m \u001b[0;36m1\u001b[0m\u001b[0;34m:\u001b[0m\u001b[0;34m\u001b[0m\u001b[0;34m\u001b[0m\u001b[0m\n\u001b[1;32m    309\u001b[0m             \u001b[0mindices\u001b[0m \u001b[0;34m=\u001b[0m \u001b[0;34m(\u001b[0m\u001b[0mscores\u001b[0m \u001b[0;34m>\u001b[0m \u001b[0;36m0\u001b[0m\u001b[0;34m)\u001b[0m\u001b[0;34m.\u001b[0m\u001b[0mastype\u001b[0m\u001b[0;34m(\u001b[0m\u001b[0mnp\u001b[0m\u001b[0;34m.\u001b[0m\u001b[0mint\u001b[0m\u001b[0;34m)\u001b[0m\u001b[0;34m\u001b[0m\u001b[0;34m\u001b[0m\u001b[0m\n",
      "\u001b[0;32m~/opt/anaconda3/lib/python3.8/site-packages/sklearn/linear_model/_base.py\u001b[0m in \u001b[0;36mdecision_function\u001b[0;34m(self, X)\u001b[0m\n\u001b[1;32m    284\u001b[0m         \u001b[0mn_features\u001b[0m \u001b[0;34m=\u001b[0m \u001b[0mself\u001b[0m\u001b[0;34m.\u001b[0m\u001b[0mcoef_\u001b[0m\u001b[0;34m.\u001b[0m\u001b[0mshape\u001b[0m\u001b[0;34m[\u001b[0m\u001b[0;36m1\u001b[0m\u001b[0;34m]\u001b[0m\u001b[0;34m\u001b[0m\u001b[0;34m\u001b[0m\u001b[0m\n\u001b[1;32m    285\u001b[0m         \u001b[0;32mif\u001b[0m \u001b[0mX\u001b[0m\u001b[0;34m.\u001b[0m\u001b[0mshape\u001b[0m\u001b[0;34m[\u001b[0m\u001b[0;36m1\u001b[0m\u001b[0;34m]\u001b[0m \u001b[0;34m!=\u001b[0m \u001b[0mn_features\u001b[0m\u001b[0;34m:\u001b[0m\u001b[0;34m\u001b[0m\u001b[0;34m\u001b[0m\u001b[0m\n\u001b[0;32m--> 286\u001b[0;31m             raise ValueError(\"X has %d features per sample; expecting %d\"\n\u001b[0m\u001b[1;32m    287\u001b[0m                              % (X.shape[1], n_features))\n\u001b[1;32m    288\u001b[0m \u001b[0;34m\u001b[0m\u001b[0m\n",
      "\u001b[0;31mValueError\u001b[0m: X has 2 features per sample; expecting 16"
     ]
    }
   ],
   "source": [
    "plot_decision_regions(X_combined_std, y_combined,\n",
    "                      classifier=lr, test_idx=range(105, 150))\n",
    "plt.xlabel('petal length [standardized]')\n",
    "plt.ylabel('petal width [standardized]')\n",
    "plt.legend(loc='upper left')\n",
    "plt.tight_layout()\n",
    "#plt.savefig('images/03_06.png', dpi=300)\n",
    "plt.show()"
   ]
  },
  {
   "cell_type": "code",
   "execution_count": null,
   "metadata": {},
   "outputs": [],
   "source": []
  },
  {
   "cell_type": "code",
   "execution_count": null,
   "metadata": {},
   "outputs": [],
   "source": []
  }
 ],
 "metadata": {
  "kernelspec": {
   "display_name": "Python 3",
   "language": "python",
   "name": "python3"
  },
  "language_info": {
   "codemirror_mode": {
    "name": "ipython",
    "version": 3
   },
   "file_extension": ".py",
   "mimetype": "text/x-python",
   "name": "python",
   "nbconvert_exporter": "python",
   "pygments_lexer": "ipython3",
   "version": "3.8.5"
  }
 },
 "nbformat": 4,
 "nbformat_minor": 2
}
